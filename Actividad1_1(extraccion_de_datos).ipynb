{
  "nbformat": 4,
  "nbformat_minor": 0,
  "metadata": {
    "colab": {
      "provenance": [],
      "authorship_tag": "ABX9TyMwocu/IqHJnq2mLwZ3++tq",
      "include_colab_link": true
    },
    "kernelspec": {
      "name": "python3",
      "display_name": "Python 3"
    },
    "language_info": {
      "name": "python"
    }
  },
  "cells": [
    {
      "cell_type": "markdown",
      "metadata": {
        "id": "view-in-github",
        "colab_type": "text"
      },
      "source": [
        "<a href=\"https://colab.research.google.com/github/seplanas/Extraccion-de-Datos/blob/main/Actividad1_1(extraccion_de_datos).ipynb\" target=\"_parent\"><img src=\"https://colab.research.google.com/assets/colab-badge.svg\" alt=\"Open In Colab\"/></a>"
      ]
    },
    {
      "cell_type": "code",
      "execution_count": 2,
      "metadata": {
        "id": "pdWZkOMLuxwN"
      },
      "outputs": [],
      "source": [
        "import pandas as pd\n",
        "import numpy as np\n",
        "import matplotlib.pyplot as plt\n",
        "import seaborn as sns"
      ]
    },
    {
      "cell_type": "code",
      "source": [
        "df= pd.read_excel('/content/Detalle precios y productos fabricados 2022.xlsx')\n",
        "df.head()"
      ],
      "metadata": {
        "id": "uAX2WEmKu7Yr"
      },
      "execution_count": null,
      "outputs": []
    },
    {
      "cell_type": "code",
      "source": [
        "#Filtro por objeto\n",
        "filtro1=df[df[\"NOMBRE_VENDEDOR\"] == \"LETICIA RAMIREZ HERNANDEZ\"]\n",
        "filtro1"
      ],
      "metadata": {
        "id": "MGwfwjmxGAkl"
      },
      "execution_count": null,
      "outputs": []
    },
    {
      "cell_type": "code",
      "source": [
        "#Filtro por filas de la fila 0 a la 15\n",
        "filtro2= df.iloc[0:16,: ]           #Filas consecutivas\n",
        "filtro2"
      ],
      "metadata": {
        "id": "-AL3mRf4GQ_Y"
      },
      "execution_count": null,
      "outputs": []
    },
    {
      "cell_type": "code",
      "source": [
        "#Filtro por columnas\n",
        "filtro3=df.iloc[ : , [0,2,4,13]]  #Columnas no consecutivas\n",
        "filtro3"
      ],
      "metadata": {
        "id": "zkcocuEDGgjX"
      },
      "execution_count": null,
      "outputs": []
    },
    {
      "cell_type": "code",
      "source": [
        "df1= pd.read_excel('/content/Detalle precios y productos fabricados 2022.xlsx', index_col=2)\n",
        "df1"
      ],
      "metadata": {
        "id": "LV-bfhm6Gxvk"
      },
      "execution_count": null,
      "outputs": []
    },
    {
      "cell_type": "code",
      "source": [
        "#Paso 2: Aplicamos Filtro de filas vs columnas\n",
        "filtro4 = df1.loc[[\"LETICIA RAMIREZ HERNANDEZ\"], [\"CVE_ART\",\"DESCR\"]]\n",
        "filtro4"
      ],
      "metadata": {
        "id": "gw5UW3FNG-Eb"
      },
      "execution_count": null,
      "outputs": []
    },
    {
      "cell_type": "code",
      "source": [
        "#Filtro por cabecera\n",
        "filtro5=df.head()\n",
        "filtro5"
      ],
      "metadata": {
        "id": "EX_HojEsG-KP"
      },
      "execution_count": null,
      "outputs": []
    },
    {
      "cell_type": "code",
      "source": [
        "#Filtro por cola\n",
        "filtro6=df.tail()\n",
        "filtro6"
      ],
      "metadata": {
        "id": "Tq-a-5bLH_mh"
      },
      "execution_count": null,
      "outputs": []
    },
    {
      "cell_type": "code",
      "source": [
        "#Filtro por comparacion\n",
        "filtro7=df[df[\"PRECIO_UNITARIO\"] > 400]\n",
        "filtro7"
      ],
      "metadata": {
        "id": "tKCa4AfcIDAA"
      },
      "execution_count": null,
      "outputs": []
    },
    {
      "cell_type": "code",
      "source": [
        "#Filtro Y\n",
        "filtro8=df[(df[\"PRECIO_UNITARIO\"] > 400) & (df[\"NOMBRE_CLIENTE\"] == \"PÚBLICO EN GENERAL\")]\n",
        "filtro8"
      ],
      "metadata": {
        "id": "DRvN24pPIMa4"
      },
      "execution_count": null,
      "outputs": []
    },
    {
      "cell_type": "code",
      "source": [
        "#Filtro o\n",
        "filtro9=df[(df[\"PRECIO_UNITARIO\"] > 400) | (df[\"NOMBRE_CLIENTE\"] == \"PÚBLICO EN GENERAL\")]\n",
        "filtro9"
      ],
      "metadata": {
        "id": "yyDb4G6VIiaG"
      },
      "execution_count": null,
      "outputs": []
    },
    {
      "cell_type": "code",
      "source": [
        "#Filtro not\n",
        "filtro10=df[~(df[\"PRECIO_UNITARIO\"] > 400) & ~(df[\"NOMBRE_CLIENTE\"] == \"PÚBLICO EN GENERAL\")]\n",
        "filtro10"
      ],
      "metadata": {
        "id": "NuFkpW_oIoRd"
      },
      "execution_count": null,
      "outputs": []
    },
    {
      "cell_type": "code",
      "source": [
        "filtro1.to_csv(\"filtro1.csv\")\n",
        "filtro2.to_csv(\"filtro2.csv\")\n",
        "filtro3.to_csv(\"filtro3.csv\")\n",
        "filtro4.to_csv(\"filtro4.csv\")\n",
        "filtro5.to_csv(\"filtro5.csv\")\n",
        "filtro6.to_csv(\"filtro6.csv\")\n",
        "filtro7.to_csv(\"filtro7.csv\")\n",
        "filtro8.to_csv(\"filtro8.csv\")\n",
        "filtro9.to_csv(\"filtro9.csv\")\n",
        "filtro10.to_csv(\"filtro10.csv\")"
      ],
      "metadata": {
        "id": "rLC29HyiI4q7"
      },
      "execution_count": 32,
      "outputs": []
    }
  ]
}